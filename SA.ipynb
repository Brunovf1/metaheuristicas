{
 "cells": [
  {
   "cell_type": "code",
   "execution_count": 1,
   "metadata": {},
   "outputs": [
    {
     "name": "stdout",
     "output_type": "stream",
     "text": [
      "Populating the interactive namespace from numpy and matplotlib\n"
     ]
    }
   ],
   "source": [
    "%pylab inline\n",
    "import pandas as pd\n",
    "import random"
   ]
  },
  {
   "cell_type": "code",
   "execution_count": 2,
   "metadata": {},
   "outputs": [
    {
     "name": "stdout",
     "output_type": "stream",
     "text": [
      "num_cases= 10\n",
      "num_jobs= 10\n",
      "ttime= 116\n",
      "dtime= 69\n"
     ]
    }
   ],
   "source": [
    "with open('sch10.txt') as file:\n",
    "    num_cases = int(file.readline())\n",
    "    num_jobs = int(file.readline())\n",
    "    print('num_cases= '+str(num_cases))\n",
    "    print('num_jobs= '+str(num_jobs))\n",
    "    data = []\n",
    "    ttime = 0\n",
    "    h = 0.6\n",
    "    for ea in range(num_jobs):\n",
    "        aux = [int(ea) for ea in file.readline().split()]\n",
    "        ttime += aux[0]\n",
    "        data.append(aux)\n",
    "    df = pd.DataFrame(data)\n",
    "    dtime = int(ttime*h)\n",
    "    print('ttime= '+str(ttime))\n",
    "    print('dtime= '+str(dtime))"
   ]
  },
  {
   "cell_type": "code",
   "execution_count": 3,
   "metadata": {},
   "outputs": [
    {
     "name": "stdout",
     "output_type": "stream",
     "text": [
      "1140\n",
      "69\n"
     ]
    }
   ],
   "source": [
    "ctime = 0\n",
    "fit = 0\n",
    "test = [1,7,0,4,5,3,6,2,8,9]\n",
    "test = [0,1,2,3,4,5,6,7,8,9]\n",
    "for ea in test:\n",
    "#     print(ctime)\n",
    "    ctime += data[ea][0]\n",
    "#     print(ctime)\n",
    "    if(ctime<dtime):\n",
    "        fit +=(dtime-ctime)*data[ea][1]\n",
    "#         print(dtime-ctime)\n",
    "    elif(ctime>dtime):\n",
    "        fit +=(ctime-dtime)*data[ea][2]\n",
    "#         print('maior')\n",
    "print(fit)\n",
    "# print(ctime)\n",
    "print(dtime)"
   ]
  },
  {
   "cell_type": "code",
   "execution_count": null,
   "metadata": {},
   "outputs": [],
   "source": []
  },
  {
   "cell_type": "code",
   "execution_count": 4,
   "metadata": {},
   "outputs": [],
   "source": [
    "def neighbor(value):\n",
    "    value = value.copy()\n",
    "    # inverte 2 elementos aleatoreamente\n",
    "    a = random.randint(0,size(value)-1)\n",
    "    b = random.randint(0,size(value)-1)\n",
    "    aux = value[a]\n",
    "    value[a] = value[b]\n",
    "    value[b] = aux\n",
    "#     value[a], value[b] = value[b], value[a]\n",
    "    return(value)"
   ]
  },
  {
   "cell_type": "code",
   "execution_count": 5,
   "metadata": {},
   "outputs": [
    {
     "data": {
      "text/plain": [
       "[0, 1, 2, 3, 4, 5, 6, 7, 8, 9]"
      ]
     },
     "execution_count": 5,
     "metadata": {},
     "output_type": "execute_result"
    }
   ],
   "source": [
    "[0,1,2,3,4,5,6,7,8,9]"
   ]
  },
  {
   "cell_type": "code",
   "execution_count": 6,
   "metadata": {},
   "outputs": [],
   "source": [
    "def fitness(value):\n",
    "    ctime = 0\n",
    "    fit = 0\n",
    "    for ea in value:\n",
    "        ctime += data[ea][0]\n",
    "        delta = ctime-dtime\n",
    "        if(delta<0):\n",
    "            fit +=(-delta)*data[ea][1]\n",
    "        elif(ctime>=dtime):\n",
    "            fit +=(delta)*data[ea][2]\n",
    "    return(fit)"
   ]
  },
  {
   "cell_type": "code",
   "execution_count": 7,
   "metadata": {},
   "outputs": [
    {
     "data": {
      "text/plain": [
       "1140"
      ]
     },
     "execution_count": 7,
     "metadata": {},
     "output_type": "execute_result"
    }
   ],
   "source": [
    "fitness([0,1,2,3,4,5,6,7,8,9])"
   ]
  },
  {
   "cell_type": "code",
   "execution_count": null,
   "metadata": {},
   "outputs": [],
   "source": []
  },
  {
   "cell_type": "code",
   "execution_count": 8,
   "metadata": {},
   "outputs": [
    {
     "name": "stdout",
     "output_type": "stream",
     "text": [
      "[3, 1, 0, 2, 6, 5, 8, 4, 7, 9]\n",
      "867\n"
     ]
    }
   ],
   "source": [
    "b = [0,1,2,3,4,5,6,7,8,9]  # initial solution\n",
    "random.shuffle(b)\n",
    "k = 0  # temperature change counter\n",
    "T = 10 # inital temperature\n",
    "mk = 30  # number of repetitions\n",
    "temp = T\n",
    "aux_f = []\n",
    "aux_t = []\n",
    "aux_p = []\n",
    "while temp > 1:\n",
    "    for i in range(1, mk):\n",
    "        w = neighbor(b)\n",
    "        delta = fitness(w) - fitness(b)\n",
    "#         print('fit w= ', end='')\n",
    "#         print(w)\n",
    "#         print('fit b= ', end='')\n",
    "#         print(b)\n",
    "#         print(\"delta: \" + str(delta))\n",
    "        if(delta <= 0):\n",
    "            b = w\n",
    "            aux_f.append(fitness(b))\n",
    "        elif(delta > 0):\n",
    "            aux_p.append(math.e ** (delta / temp))\n",
    "            if(random.random() > math.e ** (delta / temp)):\n",
    "                b = w\n",
    "                aux_f.append(fitness(b))\n",
    "    aux_t.append(temp)\n",
    "    temp -= 1\n",
    "    k += 1\n",
    "print(b)\n",
    "print(fitness(b))"
   ]
  },
  {
   "cell_type": "code",
   "execution_count": 9,
   "metadata": {},
   "outputs": [],
   "source": [
    "a = [1,2,3,4,5,6,7]\n",
    "random.shuffle(a)\n"
   ]
  },
  {
   "cell_type": "code",
   "execution_count": 10,
   "metadata": {},
   "outputs": [
    {
     "data": {
      "text/plain": [
       "[<matplotlib.lines.Line2D at 0x7f1cf1db5da0>]"
      ]
     },
     "execution_count": 10,
     "metadata": {},
     "output_type": "execute_result"
    },
    {
     "data": {
      "image/png": "[encoded data removed]",
      "text/plain": [
       "<matplotlib.figure.Figure at 0x7f1cf3e3b1d0>"
      ]
     },
     "metadata": {},
     "output_type": "display_data"
    }
   ],
   "source": [
    "# temperature = 10000\n",
    "# while(temperature >1):\n",
    "    \n",
    "\n",
    "plot(aux_f)"
   ]
  },
  {
   "cell_type": "code",
   "execution_count": 11,
   "metadata": {},
   "outputs": [
    {
     "data": {
      "text/plain": [
       "[<matplotlib.lines.Line2D at 0x7f1cf1c91198>]"
      ]
     },
     "execution_count": 11,
     "metadata": {},
     "output_type": "execute_result"
    },
    {
     "data": {
      "image/png": "[encoded data removed]",
      "text/plain": [
       "<matplotlib.figure.Figure at 0x7f1cf1d22128>"
      ]
     },
     "metadata": {},
     "output_type": "display_data"
    }
   ],
   "source": [
    "plot(aux_t)"
   ]
  }
 ],
 "metadata": {
  "kernelspec": {
   "display_name": "Python 3",
   "language": "python",
   "name": "python3"
  },
  "language_info": {
   "codemirror_mode": {
    "name": "ipython",
    "version": 3
   },
   "file_extension": ".py",
   "mimetype": "text/x-python",
   "name": "python",
   "nbconvert_exporter": "python",
   "pygments_lexer": "ipython3",
   "version": "3.6.2rc1"
  }
 },
 "nbformat": 4,
 "nbformat_minor": 2
}
